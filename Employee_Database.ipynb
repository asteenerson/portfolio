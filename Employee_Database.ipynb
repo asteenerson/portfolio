{
 "cells": [
  {
   "cell_type": "markdown",
   "metadata": {},
   "source": [
    "## Employee Database SQL Example\n",
    "\n",
    "In this notebook we are going to review some employee databases from a made-up company to demonstrate how we can use SQL to connect databases from different departments or systems.  Have you ever needed information at a company where data is separated into silos by department? Wouldn’t it be nice if you could connect this information across databases to have all the data you need in one place? Well don’t worry! We are going to do just that.\n",
    "\n",
    "But how?\n",
    "\n",
    "*\tFirst, we are going to do some data modeling by creating an entity-relationship diagram (ERD) to better visualize this common problem. We are going to be using Quick DBD which can be found [__here__](https://www.quickdatabasediagrams.com/).\n",
    "\n",
    "*\tThen we will do some data engineering with PostgreSQL in order to create our table schema.\n",
    "*\tLastly, we will use SQLAlchemy, Pandas and Python to show our table data in our notebook."
   ]
  },
  {
   "cell_type": "markdown",
   "metadata": {},
   "source": [
    "Below is an ERD of our starting data. As you can see, each table is siloed by itself.\n",
    "\n",
    "<img src=\"images/employee_database/erd_start.png\">"
   ]
  },
  {
   "cell_type": "markdown",
   "metadata": {},
   "source": [
    "Let’s say you worked at this company and your boss asked you for a table of the following information:\n",
    "\n",
    "* employee number, first name, last name, title, department number, department name, department start date and salary. \n",
    "\n",
    "Based on the way this data is setup you would have to go to all of the separate sources below and manually add this data together. Thankfully, with SQL, there is a better way. \n",
    "\n",
    "<img src=\"images/employee_database/erd_highlighted.png\">"
   ]
  },
  {
   "cell_type": "markdown",
   "metadata": {},
   "source": [
    "In order to connect these tables, we need to find unique identifiers that each table shares.  Let’s use employee number (emp_no) as our unique identifier since it is a unique value for each employee.  We can make the emp_no in the Employees table our primary key (PK) and the use it as a foreign key (FK) in other tables. This links the tables together on emp_no.\n",
    "\n",
    "<img src=\"images/employee_database/erd_pk1.png\">"
   ]
  },
  {
   "cell_type": "markdown",
   "metadata": {},
   "source": [
    "But what about our Departments table? We can do the same as before and use department number (dept_no) as a primary key (PK) and link it to the Dept_Emp table as a foreign key (FK).\n",
    "\n",
    "<img src=\"images/employee_database/erd_pk2.png\">"
   ]
  },
  {
   "cell_type": "markdown",
   "metadata": {},
   "source": [
    "Since the Dept_Emp table has both our keys (emp_no and dept_no) it acts as our join table meaning that we can now access all  of our tables in a single database and it will be linked to the same employee number or department number."
   ]
  },
  {
   "cell_type": "markdown",
   "metadata": {},
   "source": [
    "Below is what our code looks like in PostgreSQL to do the exact same as we did in our ERD but in a live database."
   ]
  },
  {
   "cell_type": "code",
   "execution_count": null,
   "metadata": {},
   "outputs": [],
   "source": [
    "### Create table for employees CSV ###\n",
    "CREATE TABLE employees (\n",
    "\temp_no INT PRIMARY KEY,\n",
    "\tbrith_date DATE,\n",
    "\tfirst_name VARCHAR(255),\n",
    "\tlast_name VARCHAR(255),\n",
    "\tgender VARCHAR (1),\n",
    "\thire_date DATE\n",
    ");\n",
    "\n",
    "### Create table for departments CSV ###\n",
    "CREATE TABLE departments (\n",
    "\tdept_no VARCHAR(15) PRIMARY KEY,\n",
    "\tdept_name VARCHAR(255)\n",
    ");\n",
    "\n",
    "### Create table for titles CSV ###\n",
    "CREATE TABLE titles (\n",
    "\temp_no INT NOT NULL,\n",
    "\tFOREIGN KEY (emp_no) REFERENCES employees (emp_no),\n",
    "\ttitle VARCHAR(255),\n",
    "\tfrom_date DATE,\n",
    "\tto_date DATE\n",
    ");\n",
    "\n",
    "### Create table for salaries CSV ###\n",
    "CREATE TABLE salaries (\n",
    "\temp_no INT NOT NULL,\n",
    "\tFOREIGN KEY (emp_no) REFERENCES employees (emp_no),\n",
    "\tsalary INT,\n",
    "\tfrom_date DATE,\n",
    "\tto_date DATE\n",
    ");\n",
    "\n",
    "### Create table for dept_emp CSV ##\n",
    "CREATE TABLE dept_emp (\n",
    "\temp_no INT NOT NULL,\n",
    "\tFOREIGN KEY (emp_no) REFERENCES employees (emp_no),\n",
    "\tdept_no VARCHAR(15),\n",
    "\tFOREIGN KEY (dept_no) REFERENCES departments (dept_no),\n",
    "\tfrom_date DATE,\n",
    "\tto_date DATE\n",
    ");"
   ]
  },
  {
   "cell_type": "markdown",
   "metadata": {},
   "source": [
    "Now that our table schema is complete, let’s import SQLAlchemy, Pandas and Json. Note that I am only importing Json to conceal my username and password for PostgreSQL."
   ]
  },
  {
   "cell_type": "code",
   "execution_count": 1,
   "metadata": {},
   "outputs": [],
   "source": [
    "# Import Dependencies\n",
    "from sqlalchemy import create_engine  \n",
    "import pandas as pd\n",
    "import json\n",
    "\n",
    "# Pull from json config file with personal SQL postgres information\n",
    "with open('config.json') as json_data_file:\n",
    "    data = json.load(json_data_file)"
   ]
  },
  {
   "cell_type": "code",
   "execution_count": 2,
   "metadata": {},
   "outputs": [],
   "source": [
    "# Define personal pastgres information\n",
    "username = data[\"user\"]\n",
    "password = data[\"passw\"]\n",
    "host = data[\"host\"]\n",
    "database = data[\"database\"]"
   ]
  },
  {
   "cell_type": "code",
   "execution_count": 3,
   "metadata": {},
   "outputs": [],
   "source": [
    "# Create Engine\n",
    "engine = create_engine(f\"postgresql://{username}:{password}@{host}/{database}\")\n",
    "conn = engine.connect()"
   ]
  },
  {
   "cell_type": "markdown",
   "metadata": {},
   "source": [
    "Using SQLAlchemy we can query off of our SQL database and then use Pandas to store our queries as dataframes. Below is our employee table as an example. "
   ]
  },
  {
   "cell_type": "code",
   "execution_count": 4,
   "metadata": {},
   "outputs": [
    {
     "data": {
      "text/html": [
       "<div>\n",
       "<style scoped>\n",
       "    .dataframe tbody tr th:only-of-type {\n",
       "        vertical-align: middle;\n",
       "    }\n",
       "\n",
       "    .dataframe tbody tr th {\n",
       "        vertical-align: top;\n",
       "    }\n",
       "\n",
       "    .dataframe thead th {\n",
       "        text-align: right;\n",
       "    }\n",
       "</style>\n",
       "<table border=\"1\" class=\"dataframe\">\n",
       "  <thead>\n",
       "    <tr style=\"text-align: right;\">\n",
       "      <th></th>\n",
       "      <th>emp_no</th>\n",
       "      <th>brith_date</th>\n",
       "      <th>first_name</th>\n",
       "      <th>last_name</th>\n",
       "      <th>gender</th>\n",
       "      <th>hire_date</th>\n",
       "    </tr>\n",
       "  </thead>\n",
       "  <tbody>\n",
       "    <tr>\n",
       "      <th>0</th>\n",
       "      <td>10001</td>\n",
       "      <td>1953-09-02</td>\n",
       "      <td>Georgi</td>\n",
       "      <td>Facello</td>\n",
       "      <td>M</td>\n",
       "      <td>1986-06-26</td>\n",
       "    </tr>\n",
       "    <tr>\n",
       "      <th>1</th>\n",
       "      <td>10002</td>\n",
       "      <td>1964-06-02</td>\n",
       "      <td>Bezalel</td>\n",
       "      <td>Simmel</td>\n",
       "      <td>F</td>\n",
       "      <td>1985-11-21</td>\n",
       "    </tr>\n",
       "    <tr>\n",
       "      <th>2</th>\n",
       "      <td>10003</td>\n",
       "      <td>1959-12-03</td>\n",
       "      <td>Parto</td>\n",
       "      <td>Bamford</td>\n",
       "      <td>M</td>\n",
       "      <td>1986-08-28</td>\n",
       "    </tr>\n",
       "    <tr>\n",
       "      <th>3</th>\n",
       "      <td>10004</td>\n",
       "      <td>1954-05-01</td>\n",
       "      <td>Chirstian</td>\n",
       "      <td>Koblick</td>\n",
       "      <td>M</td>\n",
       "      <td>1986-12-01</td>\n",
       "    </tr>\n",
       "    <tr>\n",
       "      <th>4</th>\n",
       "      <td>10005</td>\n",
       "      <td>1955-01-21</td>\n",
       "      <td>Kyoichi</td>\n",
       "      <td>Maliniak</td>\n",
       "      <td>M</td>\n",
       "      <td>1989-09-12</td>\n",
       "    </tr>\n",
       "  </tbody>\n",
       "</table>\n",
       "</div>"
      ],
      "text/plain": [
       "   emp_no  brith_date first_name last_name gender   hire_date\n",
       "0   10001  1953-09-02     Georgi   Facello      M  1986-06-26\n",
       "1   10002  1964-06-02    Bezalel    Simmel      F  1985-11-21\n",
       "2   10003  1959-12-03      Parto   Bamford      M  1986-08-28\n",
       "3   10004  1954-05-01  Chirstian   Koblick      M  1986-12-01\n",
       "4   10005  1955-01-21    Kyoichi  Maliniak      M  1989-09-12"
      ]
     },
     "execution_count": 4,
     "metadata": {},
     "output_type": "execute_result"
    }
   ],
   "source": [
    "# Create variable and query all records in the employees table\n",
    "employees = pd.read_sql(\"SELECT * FROM employees\", conn)\n",
    "\n",
    "# Print first five rows\n",
    "employees.head()"
   ]
  },
  {
   "cell_type": "markdown",
   "metadata": {},
   "source": [
    "Since all of our tables are connected by primary and foreign keys, we can write a single query to pull in all of the columns our boss requested. Note that we still need to join our tables by emp_no and dept_no. Although we are still joining our tables by a common unique identifier, we can be certain that the salary we pull in from the salaries table will match the title we pull in from the titles table since they are all connected by the unique employee number. This is because we set primary and foreign keys when setting up our schema. "
   ]
  },
  {
   "cell_type": "code",
   "execution_count": 5,
   "metadata": {},
   "outputs": [
    {
     "data": {
      "text/html": [
       "<div>\n",
       "<style scoped>\n",
       "    .dataframe tbody tr th:only-of-type {\n",
       "        vertical-align: middle;\n",
       "    }\n",
       "\n",
       "    .dataframe tbody tr th {\n",
       "        vertical-align: top;\n",
       "    }\n",
       "\n",
       "    .dataframe thead th {\n",
       "        text-align: right;\n",
       "    }\n",
       "</style>\n",
       "<table border=\"1\" class=\"dataframe\">\n",
       "  <thead>\n",
       "    <tr style=\"text-align: right;\">\n",
       "      <th></th>\n",
       "      <th>emp_no</th>\n",
       "      <th>first_name</th>\n",
       "      <th>last_name</th>\n",
       "      <th>title</th>\n",
       "      <th>dept_no</th>\n",
       "      <th>dept_name</th>\n",
       "      <th>from_date</th>\n",
       "      <th>salary</th>\n",
       "    </tr>\n",
       "  </thead>\n",
       "  <tbody>\n",
       "    <tr>\n",
       "      <th>0</th>\n",
       "      <td>10005</td>\n",
       "      <td>Kyoichi</td>\n",
       "      <td>Maliniak</td>\n",
       "      <td>Senior Staff</td>\n",
       "      <td>d003</td>\n",
       "      <td>Human Resources</td>\n",
       "      <td>1989-09-12</td>\n",
       "      <td>78228</td>\n",
       "    </tr>\n",
       "    <tr>\n",
       "      <th>1</th>\n",
       "      <td>10005</td>\n",
       "      <td>Kyoichi</td>\n",
       "      <td>Maliniak</td>\n",
       "      <td>Staff</td>\n",
       "      <td>d003</td>\n",
       "      <td>Human Resources</td>\n",
       "      <td>1989-09-12</td>\n",
       "      <td>78228</td>\n",
       "    </tr>\n",
       "    <tr>\n",
       "      <th>2</th>\n",
       "      <td>10010</td>\n",
       "      <td>Duangkaew</td>\n",
       "      <td>Piveteau</td>\n",
       "      <td>Engineer</td>\n",
       "      <td>d006</td>\n",
       "      <td>Quality Management</td>\n",
       "      <td>2000-06-26</td>\n",
       "      <td>72488</td>\n",
       "    </tr>\n",
       "    <tr>\n",
       "      <th>3</th>\n",
       "      <td>10010</td>\n",
       "      <td>Duangkaew</td>\n",
       "      <td>Piveteau</td>\n",
       "      <td>Engineer</td>\n",
       "      <td>d004</td>\n",
       "      <td>Production</td>\n",
       "      <td>1996-11-24</td>\n",
       "      <td>72488</td>\n",
       "    </tr>\n",
       "    <tr>\n",
       "      <th>4</th>\n",
       "      <td>10011</td>\n",
       "      <td>Mary</td>\n",
       "      <td>Sluis</td>\n",
       "      <td>Staff</td>\n",
       "      <td>d009</td>\n",
       "      <td>Customer Service</td>\n",
       "      <td>1990-01-22</td>\n",
       "      <td>42365</td>\n",
       "    </tr>\n",
       "  </tbody>\n",
       "</table>\n",
       "</div>"
      ],
      "text/plain": [
       "   emp_no first_name last_name         title dept_no           dept_name  \\\n",
       "0   10005    Kyoichi  Maliniak  Senior Staff    d003     Human Resources   \n",
       "1   10005    Kyoichi  Maliniak         Staff    d003     Human Resources   \n",
       "2   10010  Duangkaew  Piveteau      Engineer    d006  Quality Management   \n",
       "3   10010  Duangkaew  Piveteau      Engineer    d004          Production   \n",
       "4   10011       Mary     Sluis         Staff    d009    Customer Service   \n",
       "\n",
       "    from_date  salary  \n",
       "0  1989-09-12   78228  \n",
       "1  1989-09-12   78228  \n",
       "2  2000-06-26   72488  \n",
       "3  1996-11-24   72488  \n",
       "4  1990-01-22   42365  "
      ]
     },
     "execution_count": 5,
     "metadata": {},
     "output_type": "execute_result"
    }
   ],
   "source": [
    "# Create variable and query all records in the employees table\n",
    "final_table = pd.read_sql(\"SELECT e.emp_no, e.first_name, e.last_name, t.title,\\\n",
    "                          de.dept_no, d.dept_name, de.from_date, s.salary\\\n",
    "                          FROM employees e\\\n",
    "                          JOIN titles t ON t.emp_no = e.emp_no \\\n",
    "                          JOIN dept_emp de ON de.emp_no = e.emp_no\\\n",
    "                          JOIN departments d ON d.dept_no = de.dept_no\\\n",
    "                          JOIN salaries s ON s.emp_no = t.emp_no\" , conn)\n",
    "\n",
    "# Print first five rows\n",
    "final_table.head()"
   ]
  },
  {
   "cell_type": "markdown",
   "metadata": {},
   "source": [
    "For extra points with our new boss we can also filter our table with the WHERE clause. In this example we are only querying the Sales department."
   ]
  },
  {
   "cell_type": "code",
   "execution_count": 6,
   "metadata": {},
   "outputs": [
    {
     "data": {
      "text/html": [
       "<div>\n",
       "<style scoped>\n",
       "    .dataframe tbody tr th:only-of-type {\n",
       "        vertical-align: middle;\n",
       "    }\n",
       "\n",
       "    .dataframe tbody tr th {\n",
       "        vertical-align: top;\n",
       "    }\n",
       "\n",
       "    .dataframe thead th {\n",
       "        text-align: right;\n",
       "    }\n",
       "</style>\n",
       "<table border=\"1\" class=\"dataframe\">\n",
       "  <thead>\n",
       "    <tr style=\"text-align: right;\">\n",
       "      <th></th>\n",
       "      <th>emp_no</th>\n",
       "      <th>first_name</th>\n",
       "      <th>last_name</th>\n",
       "      <th>title</th>\n",
       "      <th>dept_no</th>\n",
       "      <th>dept_name</th>\n",
       "      <th>from_date</th>\n",
       "      <th>salary</th>\n",
       "    </tr>\n",
       "  </thead>\n",
       "  <tbody>\n",
       "    <tr>\n",
       "      <th>0</th>\n",
       "      <td>10002</td>\n",
       "      <td>Bezalel</td>\n",
       "      <td>Simmel</td>\n",
       "      <td>Staff</td>\n",
       "      <td>d007</td>\n",
       "      <td>Sales</td>\n",
       "      <td>1996-08-03</td>\n",
       "      <td>65828</td>\n",
       "    </tr>\n",
       "    <tr>\n",
       "      <th>1</th>\n",
       "      <td>10016</td>\n",
       "      <td>Kazuhito</td>\n",
       "      <td>Cappelletti</td>\n",
       "      <td>Staff</td>\n",
       "      <td>d007</td>\n",
       "      <td>Sales</td>\n",
       "      <td>1998-02-11</td>\n",
       "      <td>70889</td>\n",
       "    </tr>\n",
       "    <tr>\n",
       "      <th>2</th>\n",
       "      <td>10034</td>\n",
       "      <td>Bader</td>\n",
       "      <td>Swan</td>\n",
       "      <td>Staff</td>\n",
       "      <td>d007</td>\n",
       "      <td>Sales</td>\n",
       "      <td>1995-04-12</td>\n",
       "      <td>47561</td>\n",
       "    </tr>\n",
       "    <tr>\n",
       "      <th>3</th>\n",
       "      <td>10041</td>\n",
       "      <td>Uri</td>\n",
       "      <td>Lenart</td>\n",
       "      <td>Senior Staff</td>\n",
       "      <td>d007</td>\n",
       "      <td>Sales</td>\n",
       "      <td>1989-11-12</td>\n",
       "      <td>56893</td>\n",
       "    </tr>\n",
       "    <tr>\n",
       "      <th>4</th>\n",
       "      <td>10041</td>\n",
       "      <td>Uri</td>\n",
       "      <td>Lenart</td>\n",
       "      <td>Staff</td>\n",
       "      <td>d007</td>\n",
       "      <td>Sales</td>\n",
       "      <td>1989-11-12</td>\n",
       "      <td>56893</td>\n",
       "    </tr>\n",
       "  </tbody>\n",
       "</table>\n",
       "</div>"
      ],
      "text/plain": [
       "   emp_no first_name    last_name         title dept_no dept_name   from_date  \\\n",
       "0   10002    Bezalel       Simmel         Staff    d007     Sales  1996-08-03   \n",
       "1   10016   Kazuhito  Cappelletti         Staff    d007     Sales  1998-02-11   \n",
       "2   10034      Bader         Swan         Staff    d007     Sales  1995-04-12   \n",
       "3   10041        Uri       Lenart  Senior Staff    d007     Sales  1989-11-12   \n",
       "4   10041        Uri       Lenart         Staff    d007     Sales  1989-11-12   \n",
       "\n",
       "   salary  \n",
       "0   65828  \n",
       "1   70889  \n",
       "2   47561  \n",
       "3   56893  \n",
       "4   56893  "
      ]
     },
     "execution_count": 6,
     "metadata": {},
     "output_type": "execute_result"
    }
   ],
   "source": [
    "# Create variable and query all records in the employees table\n",
    "final_table = pd.read_sql(\"SELECT e.emp_no, e.first_name, e.last_name, t.title,\\\n",
    "                          de.dept_no, d.dept_name, de.from_date, s.salary\\\n",
    "                          FROM employees e\\\n",
    "                          JOIN titles t ON t.emp_no = e.emp_no \\\n",
    "                          JOIN dept_emp de ON de.emp_no = e.emp_no\\\n",
    "                          JOIN departments d ON d.dept_no = de.dept_no\\\n",
    "                          JOIN salaries s ON s.emp_no = t.emp_no\\\n",
    "                          WHERE dept_name = 'Sales'\", conn)\n",
    "\n",
    "# Print first five rows\n",
    "final_table.head()"
   ]
  },
  {
   "cell_type": "markdown",
   "metadata": {},
   "source": [
    "And there you have it, a complex and common problem has been solved with the help of SQL!"
   ]
  }
 ],
 "metadata": {
  "kernelspec": {
   "display_name": "Python 3",
   "language": "python",
   "name": "python3"
  },
  "language_info": {
   "codemirror_mode": {
    "name": "ipython",
    "version": 3
   },
   "file_extension": ".py",
   "mimetype": "text/x-python",
   "name": "python",
   "nbconvert_exporter": "python",
   "pygments_lexer": "ipython3",
   "version": "3.7.3"
  }
 },
 "nbformat": 4,
 "nbformat_minor": 2
}
